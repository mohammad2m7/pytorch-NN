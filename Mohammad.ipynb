{
  "nbformat": 4,
  "nbformat_minor": 0,
  "metadata": {
    "colab": {
      "provenance": []
    },
    "kernelspec": {
      "name": "python3",
      "display_name": "Python 3"
    },
    "language_info": {
      "name": "python"
    }
  },
  "cells": [
    {
      "cell_type": "markdown",
      "source": [
        "# **Imports**"
      ],
      "metadata": {
        "id": "qendlWMxkz_H"
      }
    },
    {
      "cell_type": "code",
      "source": [
        "!pip install optuna"
      ],
      "metadata": {
        "colab": {
          "base_uri": "https://localhost:8080/"
        },
        "collapsed": true,
        "id": "z-LWy68PpXl_",
        "outputId": "7f5423a7-1b19-4536-a1dd-a0ed6f17f3c2"
      },
      "execution_count": 2,
      "outputs": [
        {
          "output_type": "stream",
          "name": "stdout",
          "text": [
            "Requirement already satisfied: optuna in /usr/local/lib/python3.11/dist-packages (4.3.0)\n",
            "Requirement already satisfied: alembic>=1.5.0 in /usr/local/lib/python3.11/dist-packages (from optuna) (1.16.1)\n",
            "Requirement already satisfied: colorlog in /usr/local/lib/python3.11/dist-packages (from optuna) (6.9.0)\n",
            "Requirement already satisfied: numpy in /usr/local/lib/python3.11/dist-packages (from optuna) (2.0.2)\n",
            "Requirement already satisfied: packaging>=20.0 in /usr/local/lib/python3.11/dist-packages (from optuna) (24.2)\n",
            "Requirement already satisfied: sqlalchemy>=1.4.2 in /usr/local/lib/python3.11/dist-packages (from optuna) (2.0.41)\n",
            "Requirement already satisfied: tqdm in /usr/local/lib/python3.11/dist-packages (from optuna) (4.67.1)\n",
            "Requirement already satisfied: PyYAML in /usr/local/lib/python3.11/dist-packages (from optuna) (6.0.2)\n",
            "Requirement already satisfied: Mako in /usr/lib/python3/dist-packages (from alembic>=1.5.0->optuna) (1.1.3)\n",
            "Requirement already satisfied: typing-extensions>=4.12 in /usr/local/lib/python3.11/dist-packages (from alembic>=1.5.0->optuna) (4.13.2)\n",
            "Requirement already satisfied: greenlet>=1 in /usr/local/lib/python3.11/dist-packages (from sqlalchemy>=1.4.2->optuna) (3.2.2)\n"
          ]
        }
      ]
    },
    {
      "cell_type": "code",
      "source": [
        "import pandas as pd\n",
        "import numpy as np\n",
        "import matplotlib.pyplot as plt\n",
        "import seaborn as sns\n",
        "import optuna\n",
        "import torch\n",
        "import torch.nn as nn\n",
        "from torch.utils.data import DataLoader, TensorDataset\n",
        "from sklearn.preprocessing import StandardScaler, LabelEncoder\n",
        "from sklearn.model_selection import train_test_split\n",
        "from imblearn.over_sampling import RandomOverSampler\n",
        "from sklearn.metrics import mean_squared_error, accuracy_score, f1_score, classification_report, confusion_matrix,roc_curve, roc_auc_score,precision_recall_curve\n"
      ],
      "metadata": {
        "id": "TZdi1b7kkY-_"
      },
      "execution_count": 3,
      "outputs": []
    },
    {
      "cell_type": "markdown",
      "source": [
        "# **Load Dataset**"
      ],
      "metadata": {
        "id": "FwZBFvUKlNzQ"
      }
    },
    {
      "cell_type": "code",
      "source": [
        "df = pd.read_csv('/content/Churn_Modelling.csv')\n"
      ],
      "metadata": {
        "id": "NPBRiniDkY8f"
      },
      "execution_count": 4,
      "outputs": []
    },
    {
      "cell_type": "markdown",
      "source": [
        "# **pre-processing**"
      ],
      "metadata": {
        "id": "t4WF6GeJmTfe"
      }
    },
    {
      "cell_type": "code",
      "source": [
        "df.drop(columns=[\"RowNumber\", \"CustomerId\", \"Surname\"], inplace=True)\n",
        "df.dropna(inplace=True)"
      ],
      "metadata": {
        "id": "KeD81jJSkY5m"
      },
      "execution_count": 5,
      "outputs": []
    },
    {
      "cell_type": "code",
      "source": [
        "df.isna().sum()"
      ],
      "metadata": {
        "collapsed": true,
        "colab": {
          "base_uri": "https://localhost:8080/",
          "height": 429
        },
        "id": "4Dx3KeVxwojT",
        "outputId": "35ab9ce1-aef5-45f4-acb8-17909083a32e"
      },
      "execution_count": 6,
      "outputs": [
        {
          "output_type": "execute_result",
          "data": {
            "text/plain": [
              "CreditScore        0\n",
              "Geography          0\n",
              "Gender             0\n",
              "Age                0\n",
              "Tenure             0\n",
              "Balance            0\n",
              "NumOfProducts      0\n",
              "HasCrCard          0\n",
              "IsActiveMember     0\n",
              "EstimatedSalary    0\n",
              "Exited             0\n",
              "dtype: int64"
            ],
            "text/html": [
              "<div>\n",
              "<style scoped>\n",
              "    .dataframe tbody tr th:only-of-type {\n",
              "        vertical-align: middle;\n",
              "    }\n",
              "\n",
              "    .dataframe tbody tr th {\n",
              "        vertical-align: top;\n",
              "    }\n",
              "\n",
              "    .dataframe thead th {\n",
              "        text-align: right;\n",
              "    }\n",
              "</style>\n",
              "<table border=\"1\" class=\"dataframe\">\n",
              "  <thead>\n",
              "    <tr style=\"text-align: right;\">\n",
              "      <th></th>\n",
              "      <th>0</th>\n",
              "    </tr>\n",
              "  </thead>\n",
              "  <tbody>\n",
              "    <tr>\n",
              "      <th>CreditScore</th>\n",
              "      <td>0</td>\n",
              "    </tr>\n",
              "    <tr>\n",
              "      <th>Geography</th>\n",
              "      <td>0</td>\n",
              "    </tr>\n",
              "    <tr>\n",
              "      <th>Gender</th>\n",
              "      <td>0</td>\n",
              "    </tr>\n",
              "    <tr>\n",
              "      <th>Age</th>\n",
              "      <td>0</td>\n",
              "    </tr>\n",
              "    <tr>\n",
              "      <th>Tenure</th>\n",
              "      <td>0</td>\n",
              "    </tr>\n",
              "    <tr>\n",
              "      <th>Balance</th>\n",
              "      <td>0</td>\n",
              "    </tr>\n",
              "    <tr>\n",
              "      <th>NumOfProducts</th>\n",
              "      <td>0</td>\n",
              "    </tr>\n",
              "    <tr>\n",
              "      <th>HasCrCard</th>\n",
              "      <td>0</td>\n",
              "    </tr>\n",
              "    <tr>\n",
              "      <th>IsActiveMember</th>\n",
              "      <td>0</td>\n",
              "    </tr>\n",
              "    <tr>\n",
              "      <th>EstimatedSalary</th>\n",
              "      <td>0</td>\n",
              "    </tr>\n",
              "    <tr>\n",
              "      <th>Exited</th>\n",
              "      <td>0</td>\n",
              "    </tr>\n",
              "  </tbody>\n",
              "</table>\n",
              "</div><br><label><b>dtype:</b> int64</label>"
            ]
          },
          "metadata": {},
          "execution_count": 6
        }
      ]
    },
    {
      "cell_type": "code",
      "source": [
        "le = LabelEncoder()\n",
        "df[\"Gender\"] = le.fit_transform(df[\"Gender\"])\n",
        "df = pd.get_dummies(df, columns=[\"Geography\"], drop_first=True)"
      ],
      "metadata": {
        "id": "n9g1EVBDkkkI"
      },
      "execution_count": 7,
      "outputs": []
    },
    {
      "cell_type": "code",
      "source": [
        "df[\"Geography_Germany\"] = df[\"Geography_Germany\"].astype(float)\n",
        "df[\"Geography_Spain\"] = df[\"Geography_Spain\"].astype(float)"
      ],
      "metadata": {
        "id": "oLPJCnr1kkhu"
      },
      "execution_count": 8,
      "outputs": []
    },
    {
      "cell_type": "code",
      "source": [
        "X = df.drop(\"Exited\", axis=1).values\n",
        "y = df[\"Exited\"].values"
      ],
      "metadata": {
        "id": "mEFyLeV6kkfG"
      },
      "execution_count": 9,
      "outputs": []
    },
    {
      "cell_type": "code",
      "source": [
        "scaler = StandardScaler()\n",
        "X_scaled = scaler.fit_transform(X)"
      ],
      "metadata": {
        "id": "g1v9gIKvkkcn"
      },
      "execution_count": 10,
      "outputs": []
    },
    {
      "cell_type": "code",
      "source": [
        "ros = RandomOverSampler(random_state=42)\n",
        "X_resampled, y_resampled = ros.fit_resample(X_scaled, y)"
      ],
      "metadata": {
        "id": "zdr-QiikkkZ_"
      },
      "execution_count": 11,
      "outputs": []
    },
    {
      "cell_type": "markdown",
      "source": [
        "# **train_test_split**"
      ],
      "metadata": {
        "id": "t7zOR9xznJRh"
      }
    },
    {
      "cell_type": "code",
      "source": [
        "X_train_val, X_test, y_train_val, y_test = train_test_split(X_resampled, y_resampled, test_size=0.2, random_state=42)\n",
        "X_train, X_val, y_train, y_val = train_test_split(X_train_val, y_train_val, test_size=0.25, random_state=42)\n"
      ],
      "metadata": {
        "id": "Y3Jia8S8kkXu"
      },
      "execution_count": 12,
      "outputs": []
    },
    {
      "cell_type": "code",
      "source": [
        "X_train.shape, X_val.shape, X_test.shape, y_train.shape, y_val.shape, y_test.shape"
      ],
      "metadata": {
        "colab": {
          "base_uri": "https://localhost:8080/"
        },
        "id": "Kv-aO34xkkVP",
        "outputId": "cf20f1ab-53da-481e-f9b5-ff4f5518672d"
      },
      "execution_count": 13,
      "outputs": [
        {
          "output_type": "execute_result",
          "data": {
            "text/plain": [
              "((9552, 11), (3184, 11), (3184, 11), (9552,), (3184,), (3184,))"
            ]
          },
          "metadata": {},
          "execution_count": 13
        }
      ]
    },
    {
      "cell_type": "code",
      "source": [
        "def to_tensor(x, y):\n",
        "    return torch.tensor(x, dtype=torch.float32), torch.tensor(y, dtype=torch.float32).view(-1, 1)\n",
        "\n",
        "X_train_tensor, y_train_tensor = to_tensor(X_train, y_train)\n",
        "X_val_tensor, y_val_tensor = to_tensor(X_val, y_val)\n",
        "X_test_tensor, y_test_tensor = to_tensor(X_test, y_test)"
      ],
      "metadata": {
        "id": "RVIFpykynSDu"
      },
      "execution_count": 14,
      "outputs": []
    },
    {
      "cell_type": "code",
      "source": [
        "train_loader = DataLoader(TensorDataset(X_train_tensor, y_train_tensor), batch_size=64, shuffle=True)\n",
        "val_loader = DataLoader(TensorDataset(X_val_tensor, y_val_tensor), batch_size=64)\n"
      ],
      "metadata": {
        "id": "ASZ5tafRnSBe"
      },
      "execution_count": 15,
      "outputs": []
    },
    {
      "cell_type": "markdown",
      "source": [
        "# **hyper-tuneing**"
      ],
      "metadata": {
        "id": "z1_e3AKnoPp_"
      }
    },
    {
      "cell_type": "code",
      "source": [
        "def objective(trial):\n",
        "    # --- هایپرپارامترهایی که Optuna امتحان می‌کند ---\n",
        "    hidden1 = trial.suggest_int(\"hidden1\", 8, 64)\n",
        "    hidden2 = trial.suggest_int(\"hidden2\", 4, 32)\n",
        "    dropout1 = trial.suggest_float(\"dropout1\", 0.1, 0.5)\n",
        "    dropout2 = trial.suggest_float(\"dropout2\", 0.1, 0.5)\n",
        "    lr = trial.suggest_float(\"lr\", 1e-4, 1e-2, log=True)\n",
        "    weight_decay = trial.suggest_float(\"weight_decay\", 1e-6, 1e-2, log=True)\n",
        "\n",
        "    class TunedModel(nn.Module):\n",
        "        def __init__(self):\n",
        "            super().__init__()\n",
        "            self.net = nn.Sequential(\n",
        "                nn.Linear(X_train.shape[1], hidden1),\n",
        "                nn.ReLU(),\n",
        "                nn.Dropout(dropout1),\n",
        "                nn.Linear(hidden1, hidden2),\n",
        "                nn.ReLU(),\n",
        "                nn.Dropout(dropout2),\n",
        "                nn.Linear(hidden2, 1)\n",
        "            )\n",
        "\n",
        "        def forward(self, x):\n",
        "            return self.net(x)\n",
        "\n",
        "    model = TunedModel()\n",
        "\n",
        "    pos_weight = torch.tensor([sum(y_train == 0) / sum(y_train == 1)], dtype=torch.float32)\n",
        "    criterion = nn.BCEWithLogitsLoss(pos_weight=pos_weight)\n",
        "    optimizer = torch.optim.Adam(model.parameters(), lr=lr, weight_decay=weight_decay)\n",
        "\n",
        "    # آموزش کوتاه برای هر تکرار\n",
        "    for epoch in range(15):  # آموزش سریع\n",
        "        model.train()\n",
        "        for xb, yb in train_loader:\n",
        "            optimizer.zero_grad()\n",
        "            pred = model(xb)\n",
        "            loss = criterion(pred, yb)\n",
        "            loss.backward()\n",
        "            optimizer.step()\n",
        "\n",
        "    # ارزیابی روی validation\n",
        "    model.eval()\n",
        "    with torch.no_grad():\n",
        "        val_logits = model(X_val_tensor)\n",
        "        val_probs = torch.sigmoid(val_logits)\n",
        "        val_preds = (val_probs > 0.4).float()\n",
        "        f1 = f1_score(y_val, val_preds.numpy())\n",
        "\n",
        "    return f1\n"
      ],
      "metadata": {
        "id": "xHV4VnWsnR_H"
      },
      "execution_count": 18,
      "outputs": []
    },
    {
      "cell_type": "code",
      "source": [
        "study = optuna.create_study(direction=\"maximize\")  # چون f1 بالاتر بهتر است\n",
        "study.optimize(objective, n_trials=50)  # مثلاً 50 بار امتحان\n",
        "\n"
      ],
      "metadata": {
        "colab": {
          "base_uri": "https://localhost:8080/"
        },
        "id": "hJ8L-anWobN_",
        "outputId": "a4706421-b1e5-4359-beb7-f8cf74fca3f1"
      },
      "execution_count": 19,
      "outputs": [
        {
          "output_type": "stream",
          "name": "stderr",
          "text": [
            "[I 2025-06-02 21:57:19,864] A new study created in memory with name: no-name-f007d6df-c38e-407a-b449-12f659be4689\n",
            "[I 2025-06-02 21:57:30,634] Trial 0 finished with value: 0.7582725743129557 and parameters: {'hidden1': 32, 'hidden2': 4, 'dropout1': 0.25681976833733705, 'dropout2': 0.2829282723802864, 'lr': 0.0004550428448108132, 'weight_decay': 0.001985765004167773}. Best is trial 0 with value: 0.7582725743129557.\n",
            "[I 2025-06-02 21:57:34,783] Trial 1 finished with value: 0.7711792851111736 and parameters: {'hidden1': 29, 'hidden2': 8, 'dropout1': 0.30259209114453706, 'dropout2': 0.4768648827716314, 'lr': 0.00337577475646893, 'weight_decay': 7.387138072954186e-05}. Best is trial 1 with value: 0.7711792851111736.\n",
            "[I 2025-06-02 21:57:39,318] Trial 2 finished with value: 0.7565714285714286 and parameters: {'hidden1': 53, 'hidden2': 15, 'dropout1': 0.15259420443448168, 'dropout2': 0.22495097818978796, 'lr': 0.00010829847070898818, 'weight_decay': 0.001054304673043134}. Best is trial 1 with value: 0.7711792851111736.\n",
            "[I 2025-06-02 21:57:43,869] Trial 3 finished with value: 0.7813789039481438 and parameters: {'hidden1': 60, 'hidden2': 7, 'dropout1': 0.34974774653692464, 'dropout2': 0.24840969337859098, 'lr': 0.004995531009536855, 'weight_decay': 0.0006987846979661803}. Best is trial 3 with value: 0.7813789039481438.\n",
            "[I 2025-06-02 21:57:48,054] Trial 4 finished with value: 0.7789896670493686 and parameters: {'hidden1': 53, 'hidden2': 12, 'dropout1': 0.15560168601275304, 'dropout2': 0.3998483885544696, 'lr': 0.0011113568543399505, 'weight_decay': 2.7642074810341773e-05}. Best is trial 3 with value: 0.7813789039481438.\n",
            "[I 2025-06-02 21:57:52,840] Trial 5 finished with value: 0.7606290040768783 and parameters: {'hidden1': 21, 'hidden2': 12, 'dropout1': 0.34797459523935115, 'dropout2': 0.271791800184472, 'lr': 0.00029125713673469096, 'weight_decay': 0.0034516658802728455}. Best is trial 3 with value: 0.7813789039481438.\n",
            "[I 2025-06-02 21:57:56,949] Trial 6 finished with value: 0.7388606880992667 and parameters: {'hidden1': 27, 'hidden2': 32, 'dropout1': 0.15652820314464166, 'dropout2': 0.28978177293825375, 'lr': 0.00015335897011449194, 'weight_decay': 0.00021116256655631318}. Best is trial 3 with value: 0.7813789039481438.\n",
            "[I 2025-06-02 21:58:01,092] Trial 7 finished with value: 0.7805299539170507 and parameters: {'hidden1': 63, 'hidden2': 9, 'dropout1': 0.20963103251190926, 'dropout2': 0.2946195936236413, 'lr': 0.002063971509476362, 'weight_decay': 0.0002774797770423144}. Best is trial 3 with value: 0.7813789039481438.\n",
            "[I 2025-06-02 21:58:05,967] Trial 8 finished with value: 0.7812770875469518 and parameters: {'hidden1': 50, 'hidden2': 25, 'dropout1': 0.19969928683699859, 'dropout2': 0.31975376967170965, 'lr': 0.0017096760014167708, 'weight_decay': 1.6639529677387747e-05}. Best is trial 3 with value: 0.7813789039481438.\n",
            "[I 2025-06-02 21:58:10,110] Trial 9 finished with value: 0.7700318194966734 and parameters: {'hidden1': 50, 'hidden2': 17, 'dropout1': 0.40695233445980705, 'dropout2': 0.2839980483676988, 'lr': 0.00041713901267409725, 'weight_decay': 5.907889142050449e-06}. Best is trial 3 with value: 0.7813789039481438.\n",
            "[I 2025-06-02 21:58:14,217] Trial 10 finished with value: 0.7615108905431486 and parameters: {'hidden1': 10, 'hidden2': 22, 'dropout1': 0.4725673631187854, 'dropout2': 0.10554723611167643, 'lr': 0.008084497850020453, 'weight_decay': 1.6176677077918986e-06}. Best is trial 3 with value: 0.7813789039481438.\n",
            "[I 2025-06-02 21:58:19,054] Trial 11 finished with value: 0.7792500704820976 and parameters: {'hidden1': 43, 'hidden2': 23, 'dropout1': 0.35585327231727365, 'dropout2': 0.1870251818096081, 'lr': 0.00966321460995414, 'weight_decay': 1.4647585939552465e-05}. Best is trial 3 with value: 0.7813789039481438.\n",
            "[I 2025-06-02 21:58:23,294] Trial 12 finished with value: 0.7815295815295815 and parameters: {'hidden1': 62, 'hidden2': 29, 'dropout1': 0.24164099441379003, 'dropout2': 0.37703781673042613, 'lr': 0.0036190752259893243, 'weight_decay': 0.0005035489700489749}. Best is trial 12 with value: 0.7815295815295815.\n",
            "[I 2025-06-02 21:58:27,634] Trial 13 finished with value: 0.7634902411021814 and parameters: {'hidden1': 64, 'hidden2': 31, 'dropout1': 0.2778449590041442, 'dropout2': 0.3634059284676752, 'lr': 0.004590426291743719, 'weight_decay': 0.009884239294583493}. Best is trial 12 with value: 0.7815295815295815.\n",
            "[I 2025-06-02 21:58:32,352] Trial 14 finished with value: 0.7742683280208635 and parameters: {'hidden1': 41, 'hidden2': 27, 'dropout1': 0.3997561161956088, 'dropout2': 0.4376868324469356, 'lr': 0.0044806208128359126, 'weight_decay': 0.0006176879587358019}. Best is trial 12 with value: 0.7815295815295815.\n",
            "[I 2025-06-02 21:58:36,547] Trial 15 finished with value: 0.7702664796633941 and parameters: {'hidden1': 58, 'hidden2': 4, 'dropout1': 0.23657503879806724, 'dropout2': 0.3625342911552234, 'lr': 0.0025665534867692517, 'weight_decay': 0.00010136288494180858}. Best is trial 12 with value: 0.7815295815295815.\n",
            "[I 2025-06-02 21:58:41,210] Trial 16 finished with value: 0.7777132907719094 and parameters: {'hidden1': 40, 'hidden2': 19, 'dropout1': 0.31042304593124626, 'dropout2': 0.15180069644427316, 'lr': 0.0009463841974111224, 'weight_decay': 0.0005174456395727371}. Best is trial 12 with value: 0.7815295815295815.\n",
            "[I 2025-06-02 21:58:45,624] Trial 17 finished with value: 0.7646185811813595 and parameters: {'hidden1': 59, 'hidden2': 27, 'dropout1': 0.4858217458926389, 'dropout2': 0.2391195832203518, 'lr': 0.006010700148738125, 'weight_decay': 0.006400858979723346}. Best is trial 12 with value: 0.7815295815295815.\n",
            "[I 2025-06-02 21:58:49,791] Trial 18 finished with value: 0.7738722905682484 and parameters: {'hidden1': 45, 'hidden2': 19, 'dropout1': 0.4346644074127589, 'dropout2': 0.36383465875307425, 'lr': 0.0012716018891307116, 'weight_decay': 0.0014893799666455757}. Best is trial 12 with value: 0.7815295815295815.\n",
            "[I 2025-06-02 21:58:55,157] Trial 19 finished with value: 0.772316384180791 and parameters: {'hidden1': 58, 'hidden2': 29, 'dropout1': 0.3469604110587018, 'dropout2': 0.4800692434426382, 'lr': 0.003218099490837222, 'weight_decay': 8.718863706375763e-05}. Best is trial 12 with value: 0.7815295815295815.\n",
            "[I 2025-06-02 21:58:59,513] Trial 20 finished with value: 0.7613986013986014 and parameters: {'hidden1': 8, 'hidden2': 8, 'dropout1': 0.1009563814236435, 'dropout2': 0.4183956713712753, 'lr': 0.006366138567684994, 'weight_decay': 0.0002768631255002809}. Best is trial 12 with value: 0.7815295815295815.\n",
            "[I 2025-06-02 21:59:03,665] Trial 21 finished with value: 0.7827856935155568 and parameters: {'hidden1': 48, 'hidden2': 25, 'dropout1': 0.20998963872665719, 'dropout2': 0.33338130635312724, 'lr': 0.0020448806617618305, 'weight_decay': 2.8911957926088974e-05}. Best is trial 21 with value: 0.7827856935155568.\n",
            "[I 2025-06-02 21:59:08,551] Trial 22 finished with value: 0.7758468335787924 and parameters: {'hidden1': 48, 'hidden2': 22, 'dropout1': 0.21425807278852604, 'dropout2': 0.3360819273306035, 'lr': 0.0007788927804694514, 'weight_decay': 4.266793125822484e-05}. Best is trial 21 with value: 0.7827856935155568.\n",
            "[I 2025-06-02 21:59:12,787] Trial 23 finished with value: 0.7833187518226888 and parameters: {'hidden1': 56, 'hidden2': 29, 'dropout1': 0.2770669251220157, 'dropout2': 0.23195812712983488, 'lr': 0.001721208813588682, 'weight_decay': 7.20869765886141e-06}. Best is trial 23 with value: 0.7833187518226888.\n",
            "[I 2025-06-02 21:59:17,184] Trial 24 finished with value: 0.7853988813659111 and parameters: {'hidden1': 54, 'hidden2': 28, 'dropout1': 0.26761464800771395, 'dropout2': 0.2036833461651375, 'lr': 0.0016791586538221505, 'weight_decay': 3.301962968606648e-06}. Best is trial 24 with value: 0.7853988813659111.\n",
            "[I 2025-06-02 21:59:21,825] Trial 25 finished with value: 0.7813061713600958 and parameters: {'hidden1': 36, 'hidden2': 25, 'dropout1': 0.27301453654486474, 'dropout2': 0.19740062283061866, 'lr': 0.001465491471424787, 'weight_decay': 3.08750155031534e-06}. Best is trial 24 with value: 0.7853988813659111.\n",
            "[I 2025-06-02 21:59:26,047] Trial 26 finished with value: 0.7915676959619953 and parameters: {'hidden1': 55, 'hidden2': 29, 'dropout1': 0.18447889693319366, 'dropout2': 0.15663101604913093, 'lr': 0.002169801810012062, 'weight_decay': 6.408076324851298e-06}. Best is trial 26 with value: 0.7915676959619953.\n",
            "[I 2025-06-02 21:59:30,866] Trial 27 finished with value: 0.772700296735905 and parameters: {'hidden1': 54, 'hidden2': 30, 'dropout1': 0.18544153671523647, 'dropout2': 0.14205956135912232, 'lr': 0.0006355146573239251, 'weight_decay': 5.341645943257677e-06}. Best is trial 26 with value: 0.7915676959619953.\n",
            "[I 2025-06-02 21:59:35,107] Trial 28 finished with value: 0.7891991408407487 and parameters: {'hidden1': 55, 'hidden2': 32, 'dropout1': 0.10756795844491121, 'dropout2': 0.1991555676965956, 'lr': 0.00245527940696451, 'weight_decay': 1.1998609106068413e-06}. Best is trial 26 with value: 0.7915676959619953.\n",
            "[I 2025-06-02 21:59:39,328] Trial 29 finished with value: 0.7898126463700235 and parameters: {'hidden1': 36, 'hidden2': 27, 'dropout1': 0.12446454034642726, 'dropout2': 0.1707860194041403, 'lr': 0.0024365403200970314, 'weight_decay': 1.0999221923726239e-06}. Best is trial 26 with value: 0.7915676959619953.\n",
            "[I 2025-06-02 21:59:44,191] Trial 30 finished with value: 0.7859899079845651 and parameters: {'hidden1': 21, 'hidden2': 32, 'dropout1': 0.1087269127820082, 'dropout2': 0.10121477126149475, 'lr': 0.002536604845880582, 'weight_decay': 1.383792953254022e-06}. Best is trial 26 with value: 0.7915676959619953.\n",
            "[I 2025-06-02 21:59:48,347] Trial 31 finished with value: 0.7855688100087286 and parameters: {'hidden1': 19, 'hidden2': 32, 'dropout1': 0.10747641366394475, 'dropout2': 0.10416178229884132, 'lr': 0.0028541421023218602, 'weight_decay': 1.090158747186333e-06}. Best is trial 26 with value: 0.7915676959619953.\n",
            "[I 2025-06-02 21:59:52,504] Trial 32 finished with value: 0.7898089171974523 and parameters: {'hidden1': 33, 'hidden2': 32, 'dropout1': 0.1312899070552346, 'dropout2': 0.14869200027914656, 'lr': 0.002507118985851535, 'weight_decay': 1.0031018056489597e-06}. Best is trial 26 with value: 0.7915676959619953.\n",
            "[I 2025-06-02 21:59:57,378] Trial 33 finished with value: 0.7873222748815166 and parameters: {'hidden1': 33, 'hidden2': 30, 'dropout1': 0.13502660343797132, 'dropout2': 0.16009425405754507, 'lr': 0.00375540234465044, 'weight_decay': 2.8370573795254484e-06}. Best is trial 26 with value: 0.7915676959619953.\n",
            "[I 2025-06-02 22:00:01,562] Trial 34 finished with value: 0.7852368497529788 and parameters: {'hidden1': 28, 'hidden2': 27, 'dropout1': 0.13441739035787958, 'dropout2': 0.17307535745242075, 'lr': 0.0022777044969330426, 'weight_decay': 2.0994064749740516e-06}. Best is trial 26 with value: 0.7915676959619953.\n",
            "[I 2025-06-02 22:00:05,964] Trial 35 finished with value: 0.7823008849557522 and parameters: {'hidden1': 37, 'hidden2': 31, 'dropout1': 0.13231298832014693, 'dropout2': 0.13896226199781825, 'lr': 0.0009471336806096491, 'weight_decay': 9.500075261616176e-06}. Best is trial 26 with value: 0.7915676959619953.\n",
            "[I 2025-06-02 22:00:10,703] Trial 36 finished with value: 0.7774480712166172 and parameters: {'hidden1': 32, 'hidden2': 26, 'dropout1': 0.17263912973710532, 'dropout2': 0.12952207391501672, 'lr': 0.0013300364293305918, 'weight_decay': 1.0045204989430813e-06}. Best is trial 26 with value: 0.7915676959619953.\n",
            "[I 2025-06-02 22:00:14,883] Trial 37 finished with value: 0.7829591249280369 and parameters: {'hidden1': 24, 'hidden2': 23, 'dropout1': 0.1733913734285833, 'dropout2': 0.21257204423652254, 'lr': 0.0030759689222001753, 'weight_decay': 4.0039119620503365e-06}. Best is trial 26 with value: 0.7915676959619953.\n",
            "[I 2025-06-02 22:00:19,676] Trial 38 finished with value: 0.7896440129449838 and parameters: {'hidden1': 35, 'hidden2': 30, 'dropout1': 0.12275749478480474, 'dropout2': 0.17239041105598427, 'lr': 0.00407991516626512, 'weight_decay': 1.0638589107507785e-05}. Best is trial 26 with value: 0.7915676959619953.\n",
            "[I 2025-06-02 22:00:23,979] Trial 39 finished with value: 0.7799662352279122 and parameters: {'hidden1': 36, 'hidden2': 30, 'dropout1': 0.14850815342448856, 'dropout2': 0.2581725798208399, 'lr': 0.004228181634728358, 'weight_decay': 1.5121039776066899e-05}. Best is trial 26 with value: 0.7915676959619953.\n",
            "[I 2025-06-02 22:00:28,244] Trial 40 finished with value: 0.7842311164610292 and parameters: {'hidden1': 39, 'hidden2': 28, 'dropout1': 0.12544362034568168, 'dropout2': 0.17632451207385735, 'lr': 0.005814279473510498, 'weight_decay': 2.1951171281322577e-06}. Best is trial 26 with value: 0.7915676959619953.\n",
            "[I 2025-06-02 22:00:33,103] Trial 41 finished with value: 0.7836466726350343 and parameters: {'hidden1': 33, 'hidden2': 32, 'dropout1': 0.1604871488423355, 'dropout2': 0.12738656611748242, 'lr': 0.001987127395815227, 'weight_decay': 1.858561969971707e-06}. Best is trial 26 with value: 0.7915676959619953.\n",
            "[I 2025-06-02 22:00:37,369] Trial 42 finished with value: 0.785439479135839 and parameters: {'hidden1': 30, 'hidden2': 31, 'dropout1': 0.11942252917041271, 'dropout2': 0.17099613340708417, 'lr': 0.002850957976607899, 'weight_decay': 1.0215019234688018e-05}. Best is trial 26 with value: 0.7915676959619953.\n",
            "[I 2025-06-02 22:00:41,549] Trial 43 finished with value: 0.7779730521382543 and parameters: {'hidden1': 14, 'hidden2': 14, 'dropout1': 0.14521577601474928, 'dropout2': 0.20947297513197882, 'lr': 0.0034135445605462354, 'weight_decay': 5.11518495647771e-06}. Best is trial 26 with value: 0.7915676959619953.\n",
            "[I 2025-06-02 22:00:46,521] Trial 44 finished with value: 0.7426617269877458 and parameters: {'hidden1': 26, 'hidden2': 28, 'dropout1': 0.18782238007581475, 'dropout2': 0.12135823759896949, 'lr': 0.00016634854333070158, 'weight_decay': 1.3606546255461302e-06}. Best is trial 26 with value: 0.7915676959619953.\n",
            "[I 2025-06-02 22:00:50,690] Trial 45 finished with value: 0.7882623705408516 and parameters: {'hidden1': 45, 'hidden2': 24, 'dropout1': 0.16701378380037232, 'dropout2': 0.18940179875465632, 'lr': 0.007575165708017167, 'weight_decay': 2.3893819858306934e-06}. Best is trial 26 with value: 0.7915676959619953.\n",
            "[I 2025-06-02 22:00:55,110] Trial 46 finished with value: 0.7856089649071071 and parameters: {'hidden1': 51, 'hidden2': 31, 'dropout1': 0.1201857133826182, 'dropout2': 0.1598494809845075, 'lr': 0.0011276403883928436, 'weight_decay': 1.013125364510617e-06}. Best is trial 26 with value: 0.7915676959619953.\n",
            "[I 2025-06-02 22:00:59,772] Trial 47 finished with value: 0.7935542718151414 and parameters: {'hidden1': 44, 'hidden2': 29, 'dropout1': 0.10007687509203869, 'dropout2': 0.2633469623365103, 'lr': 0.0022514373652660177, 'weight_decay': 2.347647582517419e-05}. Best is trial 47 with value: 0.7935542718151414.\n",
            "[I 2025-06-02 22:01:03,974] Trial 48 finished with value: 0.7836466726350343 and parameters: {'hidden1': 43, 'hidden2': 26, 'dropout1': 0.23171878163578052, 'dropout2': 0.2189925997506289, 'lr': 0.0016854674906024696, 'weight_decay': 5.017870170537207e-05}. Best is trial 47 with value: 0.7935542718151414.\n",
            "[I 2025-06-02 22:01:08,737] Trial 49 finished with value: 0.7838957963291888 and parameters: {'hidden1': 30, 'hidden2': 29, 'dropout1': 0.18992152716587746, 'dropout2': 0.270521789046571, 'lr': 0.00503665456230486, 'weight_decay': 2.1546016468628097e-05}. Best is trial 47 with value: 0.7935542718151414.\n"
          ]
        }
      ]
    },
    {
      "cell_type": "code",
      "source": [
        "print(\"Best trial:\")\n",
        "print(study.best_trial)\n"
      ],
      "metadata": {
        "colab": {
          "base_uri": "https://localhost:8080/"
        },
        "id": "32CIDfnFoa71",
        "outputId": "0e413300-42f9-4fee-89f1-732156ddc776"
      },
      "execution_count": 20,
      "outputs": [
        {
          "output_type": "stream",
          "name": "stdout",
          "text": [
            "Best trial:\n",
            "FrozenTrial(number=47, state=1, values=[0.7935542718151414], datetime_start=datetime.datetime(2025, 6, 2, 22, 0, 55, 114675), datetime_complete=datetime.datetime(2025, 6, 2, 22, 0, 59, 771702), params={'hidden1': 44, 'hidden2': 29, 'dropout1': 0.10007687509203869, 'dropout2': 0.2633469623365103, 'lr': 0.0022514373652660177, 'weight_decay': 2.347647582517419e-05}, user_attrs={}, system_attrs={}, intermediate_values={}, distributions={'hidden1': IntDistribution(high=64, log=False, low=8, step=1), 'hidden2': IntDistribution(high=32, log=False, low=4, step=1), 'dropout1': FloatDistribution(high=0.5, log=False, low=0.1, step=None), 'dropout2': FloatDistribution(high=0.5, log=False, low=0.1, step=None), 'lr': FloatDistribution(high=0.01, log=True, low=0.0001, step=None), 'weight_decay': FloatDistribution(high=0.01, log=True, low=1e-06, step=None)}, trial_id=47, value=None)\n"
          ]
        }
      ]
    },
    {
      "cell_type": "code",
      "source": [
        "best_params = study.best_params\n",
        "print(\"Best hyperparameters:\", best_params)\n"
      ],
      "metadata": {
        "colab": {
          "base_uri": "https://localhost:8080/"
        },
        "id": "2ZHslBUUokG-",
        "outputId": "55380860-bd65-42d1-f1d8-a296901ddfdd"
      },
      "execution_count": 21,
      "outputs": [
        {
          "output_type": "stream",
          "name": "stdout",
          "text": [
            "Best hyperparameters: {'hidden1': 44, 'hidden2': 29, 'dropout1': 0.10007687509203869, 'dropout2': 0.2633469623365103, 'lr': 0.0022514373652660177, 'weight_decay': 2.347647582517419e-05}\n"
          ]
        }
      ]
    },
    {
      "cell_type": "markdown",
      "source": [
        "# **class ChurnModel**"
      ],
      "metadata": {
        "id": "cTLktB0Fr-Rn"
      }
    },
    {
      "cell_type": "code",
      "source": [
        "class ChurnModel(nn.Module):\n",
        "    def __init__(self):\n",
        "        super().__init__()\n",
        "        self.net = nn.Sequential(\n",
        "            nn.Linear(11, 44),\n",
        "            nn.ReLU(),\n",
        "            nn.Dropout(0.10007687509203869),\n",
        "            nn.Linear(44, 29),\n",
        "            nn.ReLU(),\n",
        "            nn.Dropout(0.2633469623365103),\n",
        "            nn.Linear(29, 1)\n",
        "        )\n",
        "\n",
        "    def forward(self, x):\n",
        "        return self.net(x)\n"
      ],
      "metadata": {
        "id": "wbbrEVmaokCP"
      },
      "execution_count": 16,
      "outputs": []
    },
    {
      "cell_type": "code",
      "source": [
        "model = ChurnModel()\n",
        "pos_weight = torch.tensor([sum(y_train == 0) / sum(y_train == 1)], dtype=torch.float32)\n",
        "criterion = nn.BCEWithLogitsLoss(pos_weight=pos_weight)\n",
        "optimizer = torch.optim.Adam(model.parameters(), lr=0.0022514373652660177, weight_decay=2.347647582517419e-05)\n"
      ],
      "metadata": {
        "id": "RLt1HNQjpEv_"
      },
      "execution_count": 17,
      "outputs": []
    },
    {
      "cell_type": "code",
      "source": [
        "train_losses, val_losses = [], []\n",
        "epochs = 1000\n",
        "for epoch in range(epochs):\n",
        "    model.train()\n",
        "    train_loss = 0\n",
        "    for xb, yb in train_loader:\n",
        "        optimizer.zero_grad()\n",
        "        pred = model(xb)\n",
        "        loss = criterion(pred, yb)\n",
        "        loss.backward()\n",
        "        optimizer.step()\n",
        "        train_loss += loss.item()\n",
        "\n",
        "    model.eval()\n",
        "    val_loss = 0\n",
        "    with torch.no_grad():\n",
        "        for xb, yb in val_loader:\n",
        "            pred = model(xb)\n",
        "            loss = criterion(pred, yb)\n",
        "            val_loss += loss.item()\n",
        "\n",
        "    train_losses.append(train_loss / len(train_loader))\n",
        "    val_losses.append(val_loss / len(val_loader))\n",
        "\n",
        "    if (epoch + 1) % 10 == 0:\n",
        "        print(f\"Epoch {epoch+1}/{epochs} - Train Loss: {train_losses[-1]:.4f}, Val Loss: {val_losses[-1]:.4f}\")\n"
      ],
      "metadata": {
        "colab": {
          "base_uri": "https://localhost:8080/"
        },
        "id": "_9QVYQv0pEsY",
        "outputId": "8c23ced2-d2c3-4d3c-8791-26ad7e570d46"
      },
      "execution_count": 18,
      "outputs": [
        {
          "output_type": "stream",
          "name": "stdout",
          "text": [
            "Epoch 10/1000 - Train Loss: 0.4444, Val Loss: 0.4355\n",
            "Epoch 20/1000 - Train Loss: 0.4309, Val Loss: 0.4269\n",
            "Epoch 30/1000 - Train Loss: 0.4205, Val Loss: 0.4199\n",
            "Epoch 40/1000 - Train Loss: 0.4112, Val Loss: 0.4138\n",
            "Epoch 50/1000 - Train Loss: 0.4023, Val Loss: 0.4101\n",
            "Epoch 60/1000 - Train Loss: 0.3967, Val Loss: 0.4035\n",
            "Epoch 70/1000 - Train Loss: 0.3931, Val Loss: 0.4044\n",
            "Epoch 80/1000 - Train Loss: 0.3885, Val Loss: 0.4053\n",
            "Epoch 90/1000 - Train Loss: 0.3886, Val Loss: 0.3986\n",
            "Epoch 100/1000 - Train Loss: 0.3874, Val Loss: 0.3970\n",
            "Epoch 110/1000 - Train Loss: 0.3807, Val Loss: 0.3985\n",
            "Epoch 120/1000 - Train Loss: 0.3783, Val Loss: 0.3944\n",
            "Epoch 130/1000 - Train Loss: 0.3755, Val Loss: 0.3907\n",
            "Epoch 140/1000 - Train Loss: 0.3729, Val Loss: 0.3883\n",
            "Epoch 150/1000 - Train Loss: 0.3718, Val Loss: 0.3886\n",
            "Epoch 160/1000 - Train Loss: 0.3676, Val Loss: 0.3851\n",
            "Epoch 170/1000 - Train Loss: 0.3652, Val Loss: 0.3856\n",
            "Epoch 180/1000 - Train Loss: 0.3649, Val Loss: 0.3894\n",
            "Epoch 190/1000 - Train Loss: 0.3692, Val Loss: 0.3907\n",
            "Epoch 200/1000 - Train Loss: 0.3606, Val Loss: 0.3842\n",
            "Epoch 210/1000 - Train Loss: 0.3658, Val Loss: 0.3813\n",
            "Epoch 220/1000 - Train Loss: 0.3649, Val Loss: 0.3823\n",
            "Epoch 230/1000 - Train Loss: 0.3649, Val Loss: 0.3840\n",
            "Epoch 240/1000 - Train Loss: 0.3664, Val Loss: 0.3792\n",
            "Epoch 250/1000 - Train Loss: 0.3648, Val Loss: 0.3810\n",
            "Epoch 260/1000 - Train Loss: 0.3550, Val Loss: 0.3812\n",
            "Epoch 270/1000 - Train Loss: 0.3594, Val Loss: 0.3776\n",
            "Epoch 280/1000 - Train Loss: 0.3591, Val Loss: 0.3792\n",
            "Epoch 290/1000 - Train Loss: 0.3645, Val Loss: 0.3793\n",
            "Epoch 300/1000 - Train Loss: 0.3588, Val Loss: 0.3800\n",
            "Epoch 310/1000 - Train Loss: 0.3542, Val Loss: 0.3771\n",
            "Epoch 320/1000 - Train Loss: 0.3576, Val Loss: 0.3798\n",
            "Epoch 330/1000 - Train Loss: 0.3563, Val Loss: 0.3723\n",
            "Epoch 340/1000 - Train Loss: 0.3549, Val Loss: 0.3752\n",
            "Epoch 350/1000 - Train Loss: 0.3489, Val Loss: 0.3797\n",
            "Epoch 360/1000 - Train Loss: 0.3550, Val Loss: 0.3773\n",
            "Epoch 370/1000 - Train Loss: 0.3483, Val Loss: 0.3796\n",
            "Epoch 380/1000 - Train Loss: 0.3587, Val Loss: 0.3788\n",
            "Epoch 390/1000 - Train Loss: 0.3507, Val Loss: 0.3758\n",
            "Epoch 400/1000 - Train Loss: 0.3508, Val Loss: 0.3753\n",
            "Epoch 410/1000 - Train Loss: 0.3530, Val Loss: 0.3705\n",
            "Epoch 420/1000 - Train Loss: 0.3516, Val Loss: 0.3785\n",
            "Epoch 430/1000 - Train Loss: 0.3501, Val Loss: 0.3776\n",
            "Epoch 440/1000 - Train Loss: 0.3480, Val Loss: 0.3749\n",
            "Epoch 450/1000 - Train Loss: 0.3528, Val Loss: 0.3796\n",
            "Epoch 460/1000 - Train Loss: 0.3549, Val Loss: 0.3722\n",
            "Epoch 470/1000 - Train Loss: 0.3479, Val Loss: 0.3769\n",
            "Epoch 480/1000 - Train Loss: 0.3444, Val Loss: 0.3733\n",
            "Epoch 490/1000 - Train Loss: 0.3543, Val Loss: 0.3748\n",
            "Epoch 500/1000 - Train Loss: 0.3507, Val Loss: 0.3721\n",
            "Epoch 510/1000 - Train Loss: 0.3514, Val Loss: 0.3755\n",
            "Epoch 520/1000 - Train Loss: 0.3451, Val Loss: 0.3736\n",
            "Epoch 530/1000 - Train Loss: 0.3393, Val Loss: 0.3737\n",
            "Epoch 540/1000 - Train Loss: 0.3457, Val Loss: 0.3775\n",
            "Epoch 550/1000 - Train Loss: 0.3505, Val Loss: 0.3768\n",
            "Epoch 560/1000 - Train Loss: 0.3434, Val Loss: 0.3756\n",
            "Epoch 570/1000 - Train Loss: 0.3568, Val Loss: 0.3730\n",
            "Epoch 580/1000 - Train Loss: 0.3501, Val Loss: 0.3735\n",
            "Epoch 590/1000 - Train Loss: 0.3424, Val Loss: 0.3758\n",
            "Epoch 600/1000 - Train Loss: 0.3420, Val Loss: 0.3778\n",
            "Epoch 610/1000 - Train Loss: 0.3409, Val Loss: 0.3709\n",
            "Epoch 620/1000 - Train Loss: 0.3461, Val Loss: 0.3736\n",
            "Epoch 630/1000 - Train Loss: 0.3456, Val Loss: 0.3692\n",
            "Epoch 640/1000 - Train Loss: 0.3409, Val Loss: 0.3719\n",
            "Epoch 650/1000 - Train Loss: 0.3452, Val Loss: 0.3734\n",
            "Epoch 660/1000 - Train Loss: 0.3470, Val Loss: 0.3691\n",
            "Epoch 670/1000 - Train Loss: 0.3447, Val Loss: 0.3712\n",
            "Epoch 680/1000 - Train Loss: 0.3397, Val Loss: 0.3686\n",
            "Epoch 690/1000 - Train Loss: 0.3457, Val Loss: 0.3687\n",
            "Epoch 700/1000 - Train Loss: 0.3386, Val Loss: 0.3726\n",
            "Epoch 710/1000 - Train Loss: 0.3466, Val Loss: 0.3708\n",
            "Epoch 720/1000 - Train Loss: 0.3416, Val Loss: 0.3679\n",
            "Epoch 730/1000 - Train Loss: 0.3400, Val Loss: 0.3756\n",
            "Epoch 740/1000 - Train Loss: 0.3432, Val Loss: 0.3657\n",
            "Epoch 750/1000 - Train Loss: 0.3402, Val Loss: 0.3695\n",
            "Epoch 760/1000 - Train Loss: 0.3421, Val Loss: 0.3668\n",
            "Epoch 770/1000 - Train Loss: 0.3358, Val Loss: 0.3703\n",
            "Epoch 780/1000 - Train Loss: 0.3438, Val Loss: 0.3690\n",
            "Epoch 790/1000 - Train Loss: 0.3350, Val Loss: 0.3677\n",
            "Epoch 800/1000 - Train Loss: 0.3421, Val Loss: 0.3686\n",
            "Epoch 810/1000 - Train Loss: 0.3465, Val Loss: 0.3653\n",
            "Epoch 820/1000 - Train Loss: 0.3351, Val Loss: 0.3705\n",
            "Epoch 830/1000 - Train Loss: 0.3470, Val Loss: 0.3662\n",
            "Epoch 840/1000 - Train Loss: 0.3403, Val Loss: 0.3694\n",
            "Epoch 850/1000 - Train Loss: 0.3351, Val Loss: 0.3681\n",
            "Epoch 860/1000 - Train Loss: 0.3474, Val Loss: 0.3650\n",
            "Epoch 870/1000 - Train Loss: 0.3382, Val Loss: 0.3681\n",
            "Epoch 880/1000 - Train Loss: 0.3432, Val Loss: 0.3682\n",
            "Epoch 890/1000 - Train Loss: 0.3389, Val Loss: 0.3714\n",
            "Epoch 900/1000 - Train Loss: 0.3370, Val Loss: 0.3747\n",
            "Epoch 910/1000 - Train Loss: 0.3407, Val Loss: 0.3719\n",
            "Epoch 920/1000 - Train Loss: 0.3363, Val Loss: 0.3659\n",
            "Epoch 930/1000 - Train Loss: 0.3400, Val Loss: 0.3701\n",
            "Epoch 940/1000 - Train Loss: 0.3451, Val Loss: 0.3675\n",
            "Epoch 950/1000 - Train Loss: 0.3387, Val Loss: 0.3667\n",
            "Epoch 960/1000 - Train Loss: 0.3370, Val Loss: 0.3713\n",
            "Epoch 970/1000 - Train Loss: 0.3348, Val Loss: 0.3687\n",
            "Epoch 980/1000 - Train Loss: 0.3394, Val Loss: 0.3695\n",
            "Epoch 990/1000 - Train Loss: 0.3423, Val Loss: 0.3693\n",
            "Epoch 1000/1000 - Train Loss: 0.3352, Val Loss: 0.3706\n"
          ]
        }
      ]
    },
    {
      "cell_type": "code",
      "source": [
        "plt.plot(train_losses, label='Train Loss')\n",
        "plt.plot(val_losses, label='Validation Loss')\n",
        "plt.xlabel('Epoch')\n",
        "plt.ylabel('Loss')\n",
        "plt.legend()\n",
        "plt.title('Training and Validation Loss')\n",
        "plt.show()\n"
      ],
      "metadata": {
        "colab": {
          "base_uri": "https://localhost:8080/",
          "height": 472
        },
        "id": "9B7XBOBos6Go",
        "outputId": "d8b1552b-7c4c-452b-e8f6-77e01e43ed5a"
      },
      "execution_count": 19,
      "outputs": [
        {
          "output_type": "display_data",
          "data": {
            "text/plain": [
              "<Figure size 640x480 with 1 Axes>"
            ],
            "image/png": "[encoded data removed]"
          },
          "metadata": {}
        }
      ]
    },
    {
      "cell_type": "code",
      "source": [
        "model.eval()\n",
        "with torch.no_grad():\n",
        "    test_logits = model(X_test_tensor)\n",
        "    test_probs = torch.sigmoid(test_logits)\n",
        "    test_preds = (test_probs > 0.5).float()  # Threshold tuning\n",
        "    acc = accuracy_score(y_test, test_preds.numpy())\n",
        "    f1 = f1_score(y_test, test_preds.numpy())\n",
        "    auc = roc_auc_score(y_test, test_probs.numpy())\n",
        "    mse = mean_squared_error(y_test, test_probs.numpy())\n",
        "    print(f\"Test Accuracy: {acc:.4f}\\nF1 Score: {f1:.4f}\\nAUC: {auc:.4f}\\nMSE: {mse:.4f}\")"
      ],
      "metadata": {
        "colab": {
          "base_uri": "https://localhost:8080/"
        },
        "id": "_2ThTPDus6ER",
        "outputId": "9c1e3e63-6c50-4317-a5e5-ae35f376abb8"
      },
      "execution_count": 20,
      "outputs": [
        {
          "output_type": "stream",
          "name": "stdout",
          "text": [
            "Test Accuracy: 0.8323\n",
            "F1 Score: 0.8268\n",
            "AUC: 0.9169\n",
            "MSE: 0.1163\n"
          ]
        }
      ]
    },
    {
      "cell_type": "markdown",
      "source": [
        "# **Best threshold & Report**"
      ],
      "metadata": {
        "id": "rMfs4V1Ovsco"
      }
    },
    {
      "cell_type": "code",
      "source": [
        "model.eval()\n",
        "with torch.no_grad():\n",
        "    test_logits = model(X_test_tensor)\n",
        "    test_probs = torch.sigmoid(test_logits).numpy().flatten()\n",
        "\n",
        "\n",
        "precision, recall, thresholds = precision_recall_curve(y_test, test_probs)\n",
        "f1_scores = 2 * precision * recall / (precision + recall + 1e-6)\n",
        "best_threshold = thresholds[np.argmax(f1_scores)]\n",
        "print(f\"Best threshold : {best_threshold:.2f}\")\n",
        "\n",
        "\n",
        "test_preds = (test_probs > best_threshold).astype(int)\n",
        "\n",
        "print(\"\\n--- Classification Report ---\")\n",
        "print(classification_report(y_test, test_preds))"
      ],
      "metadata": {
        "colab": {
          "base_uri": "https://localhost:8080/"
        },
        "id": "SrK5J7eYs6Bw",
        "outputId": "9f574fa6-15e9-4f7f-9bbd-e2da584005cf"
      },
      "execution_count": 21,
      "outputs": [
        {
          "output_type": "stream",
          "name": "stdout",
          "text": [
            "Best threshold : 0.38\n",
            "\n",
            "--- Classification Report ---\n",
            "              precision    recall  f1-score   support\n",
            "\n",
            "           0       0.88      0.78      0.82      1623\n",
            "           1       0.79      0.89      0.84      1561\n",
            "\n",
            "    accuracy                           0.83      3184\n",
            "   macro avg       0.84      0.83      0.83      3184\n",
            "weighted avg       0.84      0.83      0.83      3184\n",
            "\n"
          ]
        }
      ]
    },
    {
      "cell_type": "markdown",
      "source": [
        "# **Confusion Matrix**"
      ],
      "metadata": {
        "id": "HkHqBr7bvSEJ"
      }
    },
    {
      "cell_type": "code",
      "source": [
        "cm = confusion_matrix(y_test, test_preds)\n",
        "plt.figure(figsize=(5, 4))\n",
        "sns.heatmap(cm, annot=True, fmt='d', cmap='Blues', xticklabels=[\"No Exit\", \"Exit\"], yticklabels=[\"No Exit\", \"Exit\"])\n",
        "plt.xlabel(\"Predicted\")\n",
        "plt.ylabel(\"Actual\")\n",
        "plt.title(\"Confusion Matrix\")\n",
        "plt.show()"
      ],
      "metadata": {
        "colab": {
          "base_uri": "https://localhost:8080/",
          "height": 410
        },
        "id": "btL-MFaBvUVw",
        "outputId": "11b19774-b323-43ca-eacd-4e43d91b0041"
      },
      "execution_count": 22,
      "outputs": [
        {
          "output_type": "display_data",
          "data": {
            "text/plain": [
              "<Figure size 500x400 with 2 Axes>"
            ],
            "image/png": "[encoded data removed]"
          },
          "metadata": {}
        }
      ]
    },
    {
      "cell_type": "markdown",
      "source": [
        "# **ROC Curve**"
      ],
      "metadata": {
        "id": "7-GAg1bVu5aw"
      }
    },
    {
      "cell_type": "code",
      "source": [
        "fpr, tpr, _ = roc_curve(y_test, test_probs)\n",
        "plt.figure(figsize=(6, 4))\n",
        "plt.plot(fpr, tpr, label=f\"AUC = {roc_auc_score(y_test, test_probs):.4f}\")\n",
        "plt.plot([0, 1], [0, 1], linestyle='--')\n",
        "plt.xlabel(\"False Positive Rate\")\n",
        "plt.ylabel(\"True Positive Rate\")\n",
        "plt.title(\"ROC Curve\")\n",
        "plt.legend()\n",
        "plt.grid()\n",
        "plt.show()\n"
      ],
      "metadata": {
        "colab": {
          "base_uri": "https://localhost:8080/",
          "height": 410
        },
        "id": "r1OostrYu77B",
        "outputId": "2c04bad1-5fa8-444d-8a62-a03c22d2e185"
      },
      "execution_count": 23,
      "outputs": [
        {
          "output_type": "display_data",
          "data": {
            "text/plain": [
              "<Figure size 600x400 with 1 Axes>"
            ],
            "image/png": "[encoded data removed]"
          },
          "metadata": {}
        }
      ]
    },
    {
      "cell_type": "markdown",
      "source": [
        "# **Precision-Recall Curve**"
      ],
      "metadata": {
        "id": "6FV_dkdVutTo"
      }
    },
    {
      "cell_type": "code",
      "source": [
        "plt.figure(figsize=(6, 4))\n",
        "plt.plot(recall, precision, label=\"Precision-Recall\")\n",
        "plt.xlabel(\"Recall\")\n",
        "plt.ylabel(\"Precision\")\n",
        "plt.title(\"Precision-Recall Curve\")\n",
        "plt.grid()\n",
        "plt.show()"
      ],
      "metadata": {
        "colab": {
          "base_uri": "https://localhost:8080/",
          "height": 410
        },
        "id": "WxP4I6aQuw4g",
        "outputId": "2e65b5bd-a68e-4917-ab28-6145179a02de"
      },
      "execution_count": 24,
      "outputs": [
        {
          "output_type": "display_data",
          "data": {
            "text/plain": [
              "<Figure size 600x400 with 1 Axes>"
            ],
            "image/png": "[encoded data removed]"
          },
          "metadata": {}
        }
      ]
    },
    {
      "cell_type": "markdown",
      "source": [
        "# **train & validation & test**"
      ],
      "metadata": {
        "id": "qphgrNJwHKBK"
      }
    },
    {
      "cell_type": "code",
      "source": [
        "def evaluate_set(name, X_tensor, y_true):\n",
        "    with torch.no_grad():\n",
        "        logits = model(X_tensor)\n",
        "        probs = torch.sigmoid(logits)\n",
        "        preds = (probs > 0.5).float()\n",
        "\n",
        "        acc = accuracy_score(y_true, preds.numpy())\n",
        "        f1 = f1_score(y_true, preds.numpy())\n",
        "        auc = roc_auc_score(y_true, probs.numpy())\n",
        "        mse = mean_squared_error(y_true, probs.numpy())\n",
        "\n",
        "        print(f\"\\n{name} Evaluation:\")\n",
        "        print(f\"Accuracy: {acc:.4f}\")\n",
        "        print(f\"F1 Score: {f1:.4f}\")\n",
        "        print(f\"AUC: {auc:.4f}\")\n",
        "        print(f\"MSE: {mse:.4f}\")\n",
        "        print(\"Classification Report:\\n\", classification_report(y_true, preds.numpy()))\n",
        "\n",
        "\n",
        "evaluate_set(\"Train Set\", X_train_tensor, y_train)\n",
        "evaluate_set(\"Validation Set\", X_val_tensor, y_val)\n",
        "evaluate_set(\"Test Set\", X_test_tensor, y_test)\n"
      ],
      "metadata": {
        "colab": {
          "base_uri": "https://localhost:8080/"
        },
        "id": "C9GcyZmntHqB",
        "outputId": "543ece54-6cb0-4c32-8b24-aec92df501fc"
      },
      "execution_count": 26,
      "outputs": [
        {
          "output_type": "stream",
          "name": "stdout",
          "text": [
            "\n",
            "Train Set Evaluation:\n",
            "Accuracy: 0.8958\n",
            "F1 Score: 0.8949\n",
            "AUC: 0.9630\n",
            "MSE: 0.0823\n",
            "Classification Report:\n",
            "               precision    recall  f1-score   support\n",
            "\n",
            "           0       0.88      0.92      0.90      4715\n",
            "           1       0.91      0.88      0.89      4837\n",
            "\n",
            "    accuracy                           0.90      9552\n",
            "   macro avg       0.90      0.90      0.90      9552\n",
            "weighted avg       0.90      0.90      0.90      9552\n",
            "\n",
            "\n",
            "Validation Set Evaluation:\n",
            "Accuracy: 0.8269\n",
            "F1 Score: 0.8215\n",
            "AUC: 0.9156\n",
            "MSE: 0.1174\n",
            "Classification Report:\n",
            "               precision    recall  f1-score   support\n",
            "\n",
            "           0       0.82      0.84      0.83      1622\n",
            "           1       0.83      0.81      0.82      1562\n",
            "\n",
            "    accuracy                           0.83      3184\n",
            "   macro avg       0.83      0.83      0.83      3184\n",
            "weighted avg       0.83      0.83      0.83      3184\n",
            "\n",
            "\n",
            "Test Set Evaluation:\n",
            "Accuracy: 0.8323\n",
            "F1 Score: 0.8268\n",
            "AUC: 0.9169\n",
            "MSE: 0.1163\n",
            "Classification Report:\n",
            "               precision    recall  f1-score   support\n",
            "\n",
            "           0       0.83      0.85      0.84      1623\n",
            "           1       0.84      0.82      0.83      1561\n",
            "\n",
            "    accuracy                           0.83      3184\n",
            "   macro avg       0.83      0.83      0.83      3184\n",
            "weighted avg       0.83      0.83      0.83      3184\n",
            "\n"
          ]
        }
      ]
    },
    {
      "cell_type": "markdown",
      "source": [
        "# **Good Luck**"
      ],
      "metadata": {
        "id": "FrUnXZiawaxo"
      }
    },
    {
      "cell_type": "code",
      "source": [],
      "metadata": {
        "id": "S6wL7LGgGr7i"
      },
      "execution_count": null,
      "outputs": []
    }
  ]
}